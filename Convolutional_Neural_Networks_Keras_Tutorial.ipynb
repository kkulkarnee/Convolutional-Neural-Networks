{
  "nbformat": 4,
  "nbformat_minor": 0,
  "metadata": {
    "kernelspec": {
      "display_name": "Python 3",
      "language": "python",
      "name": "python3"
    },
    "language_info": {
      "codemirror_mode": {
        "name": "ipython",
        "version": 3
      },
      "file_extension": ".py",
      "mimetype": "text/x-python",
      "name": "python",
      "nbconvert_exporter": "python",
      "pygments_lexer": "ipython3",
      "version": "3.7.3"
    },
    "colab": {
      "provenance": [],
      "collapsed_sections": []
    }
  },
  "cells": [
    {
      "cell_type": "markdown",
      "metadata": {
        "id": "7StszCgUIoxL"
      },
      "source": [
        "# Keras tutorial - Emotion Detection in Images of Faces\n",
        "\n",
        "Welcome to the first assignment of week 2. In this assignment, you will:\n",
        "1. Learn to use Keras, a high-level neural networks API (programming framework), written in Python and capable of running on top of several lower-level frameworks including TensorFlow and CNTK. \n",
        "2. See how you can in a couple of hours build a deep learning algorithm.\n",
        "\n",
        "#### Why are we using Keras? \n",
        "\n",
        "* Keras was developed to enable deep learning engineers to build and experiment with different models very quickly. \n",
        "* Just as TensorFlow is a higher-level framework than Python, Keras is an even higher-level framework and provides additional abstractions. \n",
        "* Being able to go from idea to result with the least possible delay is key to finding good models. \n",
        "* However, Keras is more restrictive than the lower-level frameworks, so there are some very complex models that you would still implement in TensorFlow rather than in Keras. \n",
        "* That being said, Keras will work fine for many common models. "
      ]
    },
    {
      "cell_type": "markdown",
      "metadata": {
        "id": "6sppvNy5IoxQ"
      },
      "source": [
        "## <font color='darkblue'>Updates</font>\n",
        "\n",
        "#### If you were working on the notebook before this update...\n",
        "* The current notebook is version \"v2a\".\n",
        "* You can find your original work saved in the notebook with the previous version name (\"v2\").\n",
        "* To view the file directory, go to the menu \"File->Open\", and this will open a new tab that shows the file directory.\n",
        "\n",
        "#### List of updates\n",
        "* Changed back-story of model to \"emotion detection\" from \"happy house.\"\n",
        "* Cleaned/organized wording of instructions and commentary.\n",
        "* Added instructions on how to set `input_shape`\n",
        "* Added explanation of \"objects as functions\" syntax.\n",
        "* Clarified explanation of variable naming convention.\n",
        "* Added hints for steps 1,2,3,4"
      ]
    },
    {
      "cell_type": "markdown",
      "metadata": {
        "id": "ERmd_-kUIoxR"
      },
      "source": [
        "## Load packages\n",
        "* In this exercise, you'll work on the \"Emotion detection\" model, which we'll explain below. \n",
        "* Let's load the required packages."
      ]
    },
    {
      "cell_type": "code",
      "metadata": {
        "colab": {
          "base_uri": "https://localhost:8080/"
        },
        "id": "R1i_43khJnzC",
        "outputId": "cc7d4cd3-b295-4e80-fc3a-333d2f5a3b94"
      },
      "source": [
        "from google.colab import drive\n",
        "drive.mount('/content/drive')"
      ],
      "execution_count": null,
      "outputs": [
        {
          "output_type": "stream",
          "text": [
            "Mounted at /content/drive\n"
          ],
          "name": "stdout"
        }
      ]
    },
    {
      "cell_type": "code",
      "metadata": {
        "id": "fy0vty0TKCBU"
      },
      "source": [
        "!cp '/content/drive/MyDrive/AlmaBetter/Cohort Aravali/Module 6/Assignment _ Convolution Neural Networks - Part II/KerasTutorial/kt_utils.py' '/content'"
      ],
      "execution_count": null,
      "outputs": []
    },
    {
      "cell_type": "code",
      "metadata": {
        "id": "9RNscpaobPjm"
      },
      "source": [
        "import keras.backend as K\n",
        "import math\n",
        "import numpy as np\n",
        "import h5py\n",
        "import matplotlib.pyplot as plt\n",
        "\n",
        "\n",
        "def mean_pred(y_true, y_pred):\n",
        "    return K.mean(y_pred)\n",
        "\n",
        "def load_dataset():\n",
        "    train_dataset = h5py.File('/content/drive/MyDrive/AlmaBetter/Cohort Aravali/Module 6/Week 1/Day 6/train_signs.h5', \"r\")\n",
        "    train_set_x_orig = np.array(train_dataset[\"train_set_x\"][:]) # your train set features\n",
        "    train_set_y_orig = np.array(train_dataset[\"train_set_y\"][:]) # your train set labels\n",
        "\n",
        "    test_dataset = h5py.File('/content/drive/MyDrive/AlmaBetter/Cohort Aravali/Module 6/Week 1/Day 6/test_signs.h5', \"r\")\n",
        "    test_set_x_orig = np.array(test_dataset[\"test_set_x\"][:]) # your test set features\n",
        "    test_set_y_orig = np.array(test_dataset[\"test_set_y\"][:]) # your test set labels\n",
        "\n",
        "    classes = np.array(test_dataset[\"list_classes\"][:]) # the list of classes\n",
        "    \n",
        "    train_set_y_orig = train_set_y_orig.reshape((1, train_set_y_orig.shape[0]))\n",
        "    test_set_y_orig = test_set_y_orig.reshape((1, test_set_y_orig.shape[0]))\n",
        "    \n",
        "    return train_set_x_orig, train_set_y_orig, test_set_x_orig, test_set_y_orig, classes\n"
      ],
      "execution_count": null,
      "outputs": []
    },
    {
      "cell_type": "code",
      "metadata": {
        "collapsed": true,
        "id": "YbW1PpTCIoxR"
      },
      "source": [
        "import numpy as np\n",
        "from keras import layers\n",
        "from keras.layers import Input, Dense, Activation, ZeroPadding2D, BatchNormalization, Flatten, Conv2D\n",
        "from keras.layers import AveragePooling2D, MaxPooling2D, Dropout, GlobalMaxPooling2D, GlobalAveragePooling2D\n",
        "from keras.models import Model\n",
        "from keras.preprocessing import image\n",
        "from keras.utils import layer_utils\n",
        "from keras.utils.data_utils import get_file\n",
        "from keras.applications.imagenet_utils import preprocess_input\n",
        "import pydot\n",
        "from IPython.display import SVG\n",
        "from keras.utils.vis_utils import model_to_dot\n",
        "from keras.utils import plot_model\n",
        "from kt_utils import *\n",
        "\n",
        "import keras.backend as K\n",
        "K.set_image_data_format('channels_last')\n",
        "import matplotlib.pyplot as plt\n",
        "from matplotlib.pyplot import imshow\n",
        "\n",
        "%matplotlib inline"
      ],
      "execution_count": null,
      "outputs": []
    },
    {
      "cell_type": "markdown",
      "metadata": {
        "id": "fqH641phIoxS"
      },
      "source": [
        "**Note**: As you can see, we've imported a lot of functions from Keras. You can use them by calling them directly in your code. Ex: `X = Input(...)` or `X = ZeroPadding2D(...)`. \n",
        "\n",
        "In other words, unlike TensorFlow, you don't have to create the graph and then make a separate `sess.run()` call to evaluate those variables."
      ]
    },
    {
      "cell_type": "markdown",
      "metadata": {
        "id": "UthLn2bpIoxS"
      },
      "source": [
        "## 1 - Emotion Tracking\n",
        "\n",
        "* A nearby community health clinic is helping the local residents monitor their mental health.  \n",
        "* As part of their study, they are asking volunteers to record their emotions throughout the day.\n",
        "* To help the participants more easily track their emotions, you are asked to create an app that will classify their emotions based on some pictures that the volunteers will take of their facial expressions.\n",
        "* As a proof-of-concept, you first train your model to detect if someone's emotion is classified as \"happy\" or \"not happy.\"\n",
        "\n",
        "To build and train this model, you have gathered pictures of some volunteers in a nearby neighborhood. The dataset is labeled.\n",
        "<img src=\"https://github.com/hrushikeshsahu19/Convolutional-Neural-Networks/blob/main/images/face_images.png?raw=1\" style=\"width:550px;height:250px;\">\n",
        "\n",
        "Run the following code to normalize the dataset and learn about its shapes."
      ]
    },
    {
      "cell_type": "code",
      "metadata": {
        "collapsed": true,
        "colab": {
          "base_uri": "https://localhost:8080/"
        },
        "id": "kZhj8KL8IoxT",
        "outputId": "c45ba208-a6cb-4477-b6c6-81094296c706"
      },
      "source": [
        "X_train_orig, Y_train_orig, X_test_orig, Y_test_orig, classes = load_dataset()\n",
        "\n",
        "# Normalize image vectors\n",
        "X_train = X_train_orig/255.\n",
        "X_test = X_test_orig/255.\n",
        "\n",
        "# Reshape\n",
        "Y_train = Y_train_orig.T\n",
        "Y_test = Y_test_orig.T\n",
        "\n",
        "print (\"number of training examples = \" + str(X_train.shape[0]))\n",
        "print (\"number of test examples = \" + str(X_test.shape[0]))\n",
        "print (\"X_train shape: \" + str(X_train.shape))\n",
        "print (\"Y_train shape: \" + str(Y_train.shape))\n",
        "print (\"X_test shape: \" + str(X_test.shape))\n",
        "print (\"Y_test shape: \" + str(Y_test.shape))"
      ],
      "execution_count": null,
      "outputs": [
        {
          "output_type": "stream",
          "text": [
            "number of training examples = 600\n",
            "number of test examples = 150\n",
            "X_train shape: (600, 64, 64, 3)\n",
            "Y_train shape: (600, 1)\n",
            "X_test shape: (150, 64, 64, 3)\n",
            "Y_test shape: (150, 1)\n"
          ],
          "name": "stdout"
        }
      ]
    },
    {
      "cell_type": "markdown",
      "metadata": {
        "id": "IQzCeFLbIoxT"
      },
      "source": [
        "**Details of the \"Face\" dataset**:\n",
        "- Images are of shape (64,64,3)\n",
        "- Training: 600 pictures\n",
        "- Test: 150 pictures"
      ]
    },
    {
      "cell_type": "markdown",
      "metadata": {
        "id": "KMAyUyhVIoxT"
      },
      "source": [
        "## 2 - Building a model in Keras\n",
        "\n",
        "Keras is very good for rapid prototyping. In just a short time you will be able to build a model that achieves outstanding results.\n",
        "\n",
        "Here is an example of a model in Keras:\n",
        "\n",
        "```python\n",
        "def model(input_shape):\n",
        "    \"\"\"\n",
        "    input_shape: The height, width and channels as a tuple.  \n",
        "        Note that this does not include the 'batch' as a dimension.\n",
        "        If you have a batch like 'X_train', \n",
        "        then you can provide the input_shape using\n",
        "        X_train.shape[1:]\n",
        "    \"\"\"\n",
        "    \n",
        "    # Define the input placeholder as a tensor with shape input_shape. Think of this as your input image!\n",
        "    X_input = Input(input_shape)\n",
        "\n",
        "    # Zero-Padding: pads the border of X_input with zeroes\n",
        "    X = ZeroPadding2D((3, 3))(X_input)\n",
        "\n",
        "    # CONV -> BN -> RELU Block applied to X\n",
        "    X = Conv2D(32, (7, 7), strides = (1, 1), name = 'conv0')(X)\n",
        "    X = BatchNormalization(axis = 3, name = 'bn0')(X)\n",
        "    X = Activation('relu')(X)\n",
        "\n",
        "    # MAXPOOL\n",
        "    X = MaxPooling2D((2, 2), name='max_pool')(X)\n",
        "\n",
        "    # FLATTEN X (means convert it to a vector) + FULLYCONNECTED\n",
        "    X = Flatten()(X)\n",
        "    X = Dense(1, activation='sigmoid', name='fc')(X)\n",
        "\n",
        "    # Create model. This creates your Keras model instance, you'll use this instance to train/test the model.\n",
        "    model = Model(inputs = X_input, outputs = X, name='HappyModel')\n",
        "    \n",
        "    return model\n",
        "```"
      ]
    },
    {
      "cell_type": "markdown",
      "metadata": {
        "id": "DBPJQ450IoxU"
      },
      "source": [
        "#### Variable naming convention\n",
        "\n",
        "* Note that Keras uses a different convention with variable names than we've previously used with numpy and TensorFlow. \n",
        "* Instead of creating unique variable names for each step and each layer, such as \n",
        "```\n",
        "X = ...\n",
        "Z1 = ...\n",
        "A1 = ...\n",
        "```\n",
        "* Keras re-uses and overwrites the same variable at each step:\n",
        "```\n",
        "X = ...\n",
        "X = ...\n",
        "X = ...\n",
        "```\n",
        "* The exception is `X_input`, which we kept separate since it's needed later."
      ]
    },
    {
      "cell_type": "markdown",
      "metadata": {
        "id": "c7prZqQaIoxU"
      },
      "source": [
        "#### Objects as functions\n",
        "* Notice how there are two pairs of parentheses in each statement.  For example:\n",
        "```\n",
        "X = ZeroPadding2D((3, 3))(X_input)\n",
        "```\n",
        "* The first is a constructor call which creates an object (ZeroPadding2D).\n",
        "* In Python, objects can be called as functions. Search for 'python object as function and you can read this blog post [Python Pandemonium](https://medium.com/python-pandemonium/function-as-objects-in-python-d5215e6d1b0d).  See the section titled \"Objects as functions.\"\n",
        "* The single line is equivalent to this:\n",
        "```\n",
        "ZP = ZeroPadding2D((3, 3)) # ZP is an object that can be called as a function\n",
        "X = ZP(X_input) \n",
        "```"
      ]
    },
    {
      "cell_type": "markdown",
      "metadata": {
        "id": "51FJqR9vIoxU"
      },
      "source": [
        "**Exercise**: Implement a `HappyModel()`.  \n",
        "* This assignment is more open-ended than most. \n",
        "* Start by implementing a model using the architecture we suggest, and run through the rest of this assignment using that as your initial model. * Later, come back and try out other model architectures. \n",
        "* For example, you might take inspiration from the model above, but then vary the network architecture and hyperparameters however you wish. \n",
        "* You can also use other functions such as `AveragePooling2D()`, `GlobalMaxPooling2D()`, `Dropout()`. \n",
        "\n",
        "**Note**: Be careful with your data's shapes. Use what you've learned in the videos to make sure your convolutional, pooling and fully-connected layers are adapted to the volumes you're applying it to."
      ]
    },
    {
      "cell_type": "code",
      "metadata": {
        "collapsed": true,
        "id": "nc7jZvP3IoxV"
      },
      "source": [
        "def HappyModel(input_shape):\n",
        "    \"\"\"\n",
        "    Implementation of the HappyModel.\n",
        "    \n",
        "    Arguments:\n",
        "    input_shape -- shape of the images of the dataset\n",
        "        (height, width, channels) as a tuple.  \n",
        "        Note that this does not include the 'batch' as a dimension.\n",
        "        If you have a batch like 'X_train', \n",
        "        then you can provide the input_shape using\n",
        "        X_train.shape[1:]\n",
        "\n",
        "    Returns:\n",
        "    model -- a Model() instance in Keras\n",
        "    \"\"\"\n",
        "    \n",
        "    ### START CODE HERE ###\n",
        "    # Feel free to use the suggested outline in the text above to get started, and run through the whole\n",
        "    # exercise (including the later portions of this notebook) once. The come back also try out other\n",
        "    # network architectures as well. \n",
        "    \n",
        "    # Define the input placeholder as a tensor with shape input_shape. Think of this as your input image!\n",
        "    X_input = Input(input_shape)\n",
        "\n",
        "    X = Conv2D(32, (3, 3), strides = (1, 1), name = 'conv0')(X_input)\n",
        "    X = BatchNormalization(axis = 3, name = 'bn0')(X)\n",
        "    X = Activation('relu')(X)\n",
        "    X = MaxPooling2D((2, 2), name='max_pool')(X)\n",
        "\n",
        "    X = Conv2D(16, (3, 3), strides = (1, 1), name = 'conv1')(X)\n",
        "    X = BatchNormalization(axis = 3, name = 'bn1')(X)\n",
        "    X = Activation('relu')(X)\n",
        "    X = MaxPooling2D((2, 2), name='max_pool2')(X)    \n",
        "    \n",
        "    # FLATTEN X (means convert it to a vector) + FULLYCONNECTED\n",
        "    X = Flatten()(X)\n",
        "    X = Dense(1, activation='sigmoid', name='fc')(X)\n",
        "\n",
        "    # Create model. This creates your Keras model instance, you'll use this instance to train/test the model.\n",
        "    model = Model(inputs = X_input, outputs = X, name='HappyModel')\n",
        "\n",
        "    ### END CODE HERE ###\n",
        "    \n",
        "    return model"
      ],
      "execution_count": null,
      "outputs": []
    },
    {
      "cell_type": "markdown",
      "metadata": {
        "id": "7fPUnjn8IoxV"
      },
      "source": [
        "You have now built a function to describe your model. To train and test this model, there are four steps in Keras:\n",
        "1. Create the model by calling the function above  \n",
        "\n",
        "2. Compile the model by calling `model.compile(optimizer = \"...\", loss = \"...\", metrics = [\"accuracy\"])`  \n",
        "\n",
        "3. Train the model on train data by calling `model.fit(x = ..., y = ..., epochs = ..., batch_size = ...)`  \n",
        "\n",
        "4. Test the model on test data by calling `model.evaluate(x = ..., y = ...)`  \n",
        "\n",
        "If you want to know more about `model.compile()`, `model.fit()`, `model.evaluate()` and their arguments, refer to the official [Keras documentation](https://keras.io/models/model/)."
      ]
    },
    {
      "cell_type": "markdown",
      "metadata": {
        "id": "PZvcwDnlIoxV"
      },
      "source": [
        "#### Step 1: create the model.  \n",
        "**Hint**:  \n",
        "The `input_shape` parameter is a tuple (height, width, channels).  It excludes the batch number.  \n",
        "Try `X_train.shape[1:]` as the `input_shape`."
      ]
    },
    {
      "cell_type": "code",
      "metadata": {
        "collapsed": true,
        "id": "iJSo4CjIIoxW"
      },
      "source": [
        "### START CODE HERE ### (1 line)\n",
        "happyModel = HappyModel( X_train.shape[1:] )\n",
        "### END CODE HERE ###"
      ],
      "execution_count": null,
      "outputs": []
    },
    {
      "cell_type": "markdown",
      "metadata": {
        "id": "--zv-ALjIoxW"
      },
      "source": [
        "#### Step 2: compile the model\n",
        "\n",
        "**Hint**:  \n",
        "Optimizers you can try include `'adam'`, `'sgd'` or others.  See the documentation for [optimizers](https://keras.io/optimizers/)  \n",
        "The \"happiness detection\" is a binary classification problem.  The loss function that you can use is `'binary_cross_entropy'`.  Note that `'categorical_cross_entropy'` won't work with your data set as its formatted, because the data is an array of 0 or 1 rather than two arrays (one for each category).  Documentation for [losses](https://keras.io/losses/)"
      ]
    },
    {
      "cell_type": "code",
      "metadata": {
        "collapsed": true,
        "id": "FJfOdHb8IoxW"
      },
      "source": [
        "### START CODE HERE ### (1 line)\n",
        "happyModel.compile(optimizer = \"adam\",loss = \"binary_crossentropy\",metrics = [\"accuracy\"])\n",
        "### END CODE HERE ###"
      ],
      "execution_count": null,
      "outputs": []
    },
    {
      "cell_type": "markdown",
      "metadata": {
        "id": "I5OF7VjOIoxX"
      },
      "source": [
        "#### Step 3: train the model\n",
        "\n",
        "**Hint**:  \n",
        "Use the `'X_train'`, `'Y_train'` variables.  Use integers for the epochs and batch_size\n",
        "\n",
        "**Note**: If you run `fit()` again, the `model` will continue to train with the parameters it has already learned instead of reinitializing them."
      ]
    },
    {
      "cell_type": "code",
      "metadata": {
        "colab": {
          "base_uri": "https://localhost:8080/"
        },
        "id": "ZtMCTH1ZIoxX",
        "outputId": "e4a79f7d-c633-4ce1-ab2f-3082400fd458"
      },
      "source": [
        "#@title\n",
        "### START CODE HERE ### (1 line)\n",
        "happyModel.fit(X_train, Y_train, batch_size=16, epochs=40)\n",
        "### END CODE HERE ###"
      ],
      "execution_count": null,
      "outputs": [
        {
          "output_type": "stream",
          "text": [
            "Epoch 1/40\n",
            "38/38 [==============================] - 4s 80ms/step - loss: 0.5056 - accuracy: 0.7511\n",
            "Epoch 2/40\n",
            "38/38 [==============================] - 3s 81ms/step - loss: 0.1861 - accuracy: 0.9353\n",
            "Epoch 3/40\n",
            "38/38 [==============================] - 3s 81ms/step - loss: 0.1076 - accuracy: 0.9792\n",
            "Epoch 4/40\n",
            "38/38 [==============================] - 3s 80ms/step - loss: 0.0791 - accuracy: 0.9821\n",
            "Epoch 5/40\n",
            "38/38 [==============================] - 3s 81ms/step - loss: 0.1000 - accuracy: 0.9702\n",
            "Epoch 6/40\n",
            "38/38 [==============================] - 3s 81ms/step - loss: 0.0497 - accuracy: 0.9881\n",
            "Epoch 7/40\n",
            "38/38 [==============================] - 3s 80ms/step - loss: 0.0364 - accuracy: 0.9892\n",
            "Epoch 8/40\n",
            "38/38 [==============================] - 3s 80ms/step - loss: 0.0318 - accuracy: 0.9930\n",
            "Epoch 9/40\n",
            "38/38 [==============================] - 3s 80ms/step - loss: 0.0219 - accuracy: 0.9985\n",
            "Epoch 10/40\n",
            "38/38 [==============================] - 3s 80ms/step - loss: 0.0261 - accuracy: 0.9940\n",
            "Epoch 11/40\n",
            "38/38 [==============================] - 3s 80ms/step - loss: 0.0371 - accuracy: 0.9867\n",
            "Epoch 12/40\n",
            "38/38 [==============================] - 3s 81ms/step - loss: 0.0182 - accuracy: 0.9997\n",
            "Epoch 13/40\n",
            "38/38 [==============================] - 3s 81ms/step - loss: 0.0272 - accuracy: 0.9855\n",
            "Epoch 14/40\n",
            "38/38 [==============================] - 3s 81ms/step - loss: 0.0142 - accuracy: 1.0000\n",
            "Epoch 15/40\n",
            "38/38 [==============================] - 3s 81ms/step - loss: 0.0080 - accuracy: 0.9996\n",
            "Epoch 16/40\n",
            "38/38 [==============================] - 3s 81ms/step - loss: 0.0150 - accuracy: 0.9962\n",
            "Epoch 17/40\n",
            "38/38 [==============================] - 3s 80ms/step - loss: 0.0201 - accuracy: 0.9932\n",
            "Epoch 18/40\n",
            "38/38 [==============================] - 3s 80ms/step - loss: 0.0051 - accuracy: 1.0000\n",
            "Epoch 19/40\n",
            "38/38 [==============================] - 3s 81ms/step - loss: 0.0055 - accuracy: 1.0000\n",
            "Epoch 20/40\n",
            "38/38 [==============================] - 3s 81ms/step - loss: 0.0056 - accuracy: 1.0000\n",
            "Epoch 21/40\n",
            "38/38 [==============================] - 3s 81ms/step - loss: 0.0021 - accuracy: 1.0000\n",
            "Epoch 22/40\n",
            "38/38 [==============================] - 3s 81ms/step - loss: 0.0037 - accuracy: 1.0000\n",
            "Epoch 23/40\n",
            "38/38 [==============================] - 3s 81ms/step - loss: 0.0019 - accuracy: 1.0000\n",
            "Epoch 24/40\n",
            "38/38 [==============================] - 3s 82ms/step - loss: 0.0023 - accuracy: 1.0000\n",
            "Epoch 25/40\n",
            "38/38 [==============================] - 3s 80ms/step - loss: 0.0021 - accuracy: 1.0000\n",
            "Epoch 26/40\n",
            "38/38 [==============================] - 3s 80ms/step - loss: 0.0021 - accuracy: 1.0000\n",
            "Epoch 27/40\n",
            "38/38 [==============================] - 3s 80ms/step - loss: 0.0024 - accuracy: 1.0000\n",
            "Epoch 28/40\n",
            "38/38 [==============================] - 3s 80ms/step - loss: 0.0015 - accuracy: 1.0000\n",
            "Epoch 29/40\n",
            "38/38 [==============================] - 3s 82ms/step - loss: 0.0015 - accuracy: 1.0000\n",
            "Epoch 30/40\n",
            "38/38 [==============================] - 3s 81ms/step - loss: 0.0016 - accuracy: 1.0000\n",
            "Epoch 31/40\n",
            "38/38 [==============================] - 3s 81ms/step - loss: 0.0011 - accuracy: 1.0000\n",
            "Epoch 32/40\n",
            "38/38 [==============================] - 3s 81ms/step - loss: 0.0013 - accuracy: 1.0000\n",
            "Epoch 33/40\n",
            "38/38 [==============================] - 3s 81ms/step - loss: 0.0010 - accuracy: 1.0000\n",
            "Epoch 34/40\n",
            "38/38 [==============================] - 3s 81ms/step - loss: 0.0013 - accuracy: 1.0000\n",
            "Epoch 35/40\n",
            "38/38 [==============================] - 3s 80ms/step - loss: 0.0012 - accuracy: 1.0000\n",
            "Epoch 36/40\n",
            "38/38 [==============================] - 3s 80ms/step - loss: 0.0013 - accuracy: 1.0000\n",
            "Epoch 37/40\n",
            "38/38 [==============================] - 3s 81ms/step - loss: 9.0429e-04 - accuracy: 1.0000\n",
            "Epoch 38/40\n",
            "38/38 [==============================] - 3s 80ms/step - loss: 7.8312e-04 - accuracy: 1.0000\n",
            "Epoch 39/40\n",
            "38/38 [==============================] - 3s 81ms/step - loss: 9.0107e-04 - accuracy: 1.0000\n",
            "Epoch 40/40\n",
            "38/38 [==============================] - 3s 81ms/step - loss: 0.0011 - accuracy: 1.0000\n"
          ],
          "name": "stdout"
        },
        {
          "output_type": "execute_result",
          "data": {
            "text/plain": [
              "<tensorflow.python.keras.callbacks.History at 0x7f4a9348c310>"
            ]
          },
          "metadata": {
            "tags": []
          },
          "execution_count": 8
        }
      ]
    },
    {
      "cell_type": "markdown",
      "metadata": {
        "id": "Of2qPMW0IoxX"
      },
      "source": [
        "#### Step 4: evaluate model  \n",
        "**Hint**:  \n",
        "Use the `'X_test'` and `'Y_test'` variables to evaluate the model's performance."
      ]
    },
    {
      "cell_type": "code",
      "metadata": {
        "scrolled": true,
        "colab": {
          "base_uri": "https://localhost:8080/"
        },
        "id": "tgA0m48AIoxX",
        "outputId": "b16fe4dc-8bc0-4ae1-f42e-2cf53637b3ae"
      },
      "source": [
        "### START CODE HERE ### (1 line)\n",
        "preds = happyModel.evaluate(X_test, Y_test)\n",
        "### END CODE HERE ###\n",
        "print()\n",
        "print (\"Loss = \" + str(preds[0]))\n",
        "print (\"Test Accuracy = \" + str(preds[1]))"
      ],
      "execution_count": null,
      "outputs": [
        {
          "output_type": "stream",
          "text": [
            "5/5 [==============================] - 0s 37ms/step - loss: 0.0864 - accuracy: 0.9533\n",
            "\n",
            "Loss = 0.0864323154091835\n",
            "Test Accuracy = 0.95333331823349\n"
          ],
          "name": "stdout"
        }
      ]
    },
    {
      "cell_type": "markdown",
      "metadata": {
        "id": "ijWyysP-IoxY"
      },
      "source": [
        "#### Expected performance   \n",
        "If your `happyModel()` function worked, its accuracy should be better than random guessing (50% accuracy).\n",
        "\n",
        "To give you a point of comparison, our model gets around **95% test accuracy in 40 epochs** (and 99% train accuracy) with a mini batch size of 16 and \"adam\" optimizer."
      ]
    },
    {
      "cell_type": "markdown",
      "metadata": {
        "id": "yZvOu5V3IoxY"
      },
      "source": [
        "#### Tips for improving your model\n",
        "\n",
        "If you have not yet achieved a very good accuracy (>= 80%), here are some things tips:\n",
        "\n",
        "- Use blocks of CONV->BATCHNORM->RELU such as:\n",
        "```python\n",
        "X = Conv2D(32, (3, 3), strides = (1, 1), name = 'conv0')(X)\n",
        "X = BatchNormalization(axis = 3, name = 'bn0')(X)\n",
        "X = Activation('relu')(X)\n",
        "```\n",
        "until your height and width dimensions are quite low and your number of channels quite large (≈32 for example).  \n",
        "You can then flatten the volume and use a fully-connected layer.\n",
        "- Use MAXPOOL after such blocks.  It will help you lower the dimension in height and width.\n",
        "- Change your optimizer. We find 'adam' works well. \n",
        "- If you get memory issues, lower your batch_size (e.g. 12 )\n",
        "- Run more epochs until you see the train accuracy no longer improves. \n",
        "\n",
        "**Note**: If you perform hyperparameter tuning on your model, the test set actually becomes a dev set, and your model might end up overfitting to the test (dev) set. Normally, you'll want separate dev and test sets.  The dev set is used for parameter tuning, and the test set is used once to estimate the model's performance in production."
      ]
    },
    {
      "cell_type": "markdown",
      "metadata": {
        "id": "w25Cm4UbIoxY"
      },
      "source": [
        "## 3 - Conclusion\n",
        "\n",
        "Congratulations, you have created a proof of concept for \"happiness detection\"!"
      ]
    },
    {
      "cell_type": "markdown",
      "metadata": {
        "id": "HZwYk87lIoxZ"
      },
      "source": [
        "## Key Points to remember\n",
        "- Keras is a tool we recommend for rapid prototyping. It allows you to quickly try out different model architectures.\n",
        "- Remember The four steps in Keras: \n",
        "\n",
        "\n",
        "1. Create  \n",
        "2. Compile  \n",
        "3. Fit/Train  \n",
        "4. Evaluate/Test  "
      ]
    },
    {
      "cell_type": "markdown",
      "metadata": {
        "id": "8ShhbcibIoxZ"
      },
      "source": [
        "## 4 - Test with your own image (Optional)\n",
        "\n",
        "Congratulations on finishing this assignment. You can now take a picture of your face and see if it can classify whether your expression is \"happy\" or \"not happy\". To do that:\n",
        "\n",
        "\n",
        "1. Click on \"File\" in the upper bar of this notebook, then click \"Open\" to go on your Coursera Hub.\n",
        "2. Add your image to this Jupyter Notebook's directory, in the \"images\" folder\n",
        "3. Write your image's name in the following code\n",
        "4. Run the code and check if the algorithm is right (0 is not happy, 1 is happy)!\n",
        "    \n",
        "The training/test sets were quite similar; for example, all the pictures were taken against the same background (since a front door camera is always mounted in the same position). This makes the problem easier, but a model trained on this data may or may not work on your own data. But feel free to give it a try! "
      ]
    },
    {
      "cell_type": "code",
      "metadata": {
        "collapsed": true,
        "id": "_1MjVahrIoxZ"
      },
      "source": [
        "### START CODE HERE ###\n",
        "img_path = 'images/my_image.jpg'\n",
        "### END CODE HERE ###\n",
        "img = image.load_img(img_path, target_size=(64, 64))\n",
        "imshow(img)\n",
        "\n",
        "x = image.img_to_array(img)\n",
        "x = np.expand_dims(x, axis=0)\n",
        "x = preprocess_input(x)\n",
        "\n",
        "print(happyModel.predict(x))"
      ],
      "execution_count": null,
      "outputs": []
    },
    {
      "cell_type": "markdown",
      "metadata": {
        "id": "w6qOfX52IoxZ"
      },
      "source": [
        "## 5 - Other useful functions in Keras (Optional)\n",
        "\n",
        "Two other basic features of Keras that you'll find useful are:\n",
        "- `model.summary()`: prints the details of your layers in a table with the sizes of its inputs/outputs\n",
        "- `plot_model()`: plots your graph in a nice layout. You can even save it as \".png\" using SVG() if you'd like to share it on social media ;). It is saved in \"File\" then \"Open...\" in the upper bar of the notebook.\n",
        "\n",
        "Run the following code."
      ]
    },
    {
      "cell_type": "code",
      "metadata": {
        "scrolled": false,
        "colab": {
          "base_uri": "https://localhost:8080/"
        },
        "id": "GRJH1zGhIoxa",
        "outputId": "3618ee77-c2ec-41ad-b6ce-0bee889a0e99"
      },
      "source": [
        "happyModel.summary()"
      ],
      "execution_count": null,
      "outputs": [
        {
          "output_type": "stream",
          "text": [
            "Model: \"HappyModel\"\n",
            "_________________________________________________________________\n",
            "Layer (type)                 Output Shape              Param #   \n",
            "=================================================================\n",
            "input_1 (InputLayer)         [(None, 64, 64, 3)]       0         \n",
            "_________________________________________________________________\n",
            "conv0 (Conv2D)               (None, 62, 62, 32)        896       \n",
            "_________________________________________________________________\n",
            "bn0 (BatchNormalization)     (None, 62, 62, 32)        128       \n",
            "_________________________________________________________________\n",
            "activation (Activation)      (None, 62, 62, 32)        0         \n",
            "_________________________________________________________________\n",
            "max_pool (MaxPooling2D)      (None, 31, 31, 32)        0         \n",
            "_________________________________________________________________\n",
            "conv1 (Conv2D)               (None, 29, 29, 16)        4624      \n",
            "_________________________________________________________________\n",
            "bn1 (BatchNormalization)     (None, 29, 29, 16)        64        \n",
            "_________________________________________________________________\n",
            "activation_1 (Activation)    (None, 29, 29, 16)        0         \n",
            "_________________________________________________________________\n",
            "max_pool2 (MaxPooling2D)     (None, 14, 14, 16)        0         \n",
            "_________________________________________________________________\n",
            "flatten (Flatten)            (None, 3136)              0         \n",
            "_________________________________________________________________\n",
            "fc (Dense)                   (None, 1)                 3137      \n",
            "=================================================================\n",
            "Total params: 8,849\n",
            "Trainable params: 8,753\n",
            "Non-trainable params: 96\n",
            "_________________________________________________________________\n"
          ],
          "name": "stdout"
        }
      ]
    },
    {
      "cell_type": "code",
      "metadata": {
        "colab": {
          "base_uri": "https://localhost:8080/",
          "height": 1000
        },
        "id": "QK-Hn-ZlIoxa",
        "outputId": "d7e91965-cf18-4885-8bae-3f910462852b"
      },
      "source": [
        "plot_model(happyModel, to_file='HappyModel.png')\n",
        "SVG(model_to_dot(happyModel).create(prog='dot', format='svg'))"
      ],
      "execution_count": null,
      "outputs": [
        {
          "output_type": "execute_result",
          "data": {
            "text/plain": [
              "<IPython.core.display.SVG object>"
            ],
            "image/svg+xml": "<svg height=\"1033pt\" viewBox=\"0.00 0.00 188.00 775.00\" width=\"251pt\" xmlns=\"http://www.w3.org/2000/svg\" xmlns:xlink=\"http://www.w3.org/1999/xlink\">\n<g class=\"graph\" id=\"graph0\" transform=\"scale(1.3333 1.3333) rotate(0) translate(4 771)\">\n<title>G</title>\n<polygon fill=\"#ffffff\" points=\"-4,4 -4,-771 184,-771 184,4 -4,4\" stroke=\"transparent\"/>\n<!-- 139958342778384 -->\n<g class=\"node\" id=\"node1\">\n<title>139958342778384</title>\n<polygon fill=\"none\" points=\"23.5,-730.5 23.5,-766.5 156.5,-766.5 156.5,-730.5 23.5,-730.5\" stroke=\"#000000\"/>\n<text fill=\"#000000\" font-family=\"Times,serif\" font-size=\"14.00\" text-anchor=\"middle\" x=\"90\" y=\"-744.8\">input_1: InputLayer</text>\n</g>\n<!-- 139958342727056 -->\n<g class=\"node\" id=\"node2\">\n<title>139958342727056</title>\n<polygon fill=\"none\" points=\"35,-657.5 35,-693.5 145,-693.5 145,-657.5 35,-657.5\" stroke=\"#000000\"/>\n<text fill=\"#000000\" font-family=\"Times,serif\" font-size=\"14.00\" text-anchor=\"middle\" x=\"90\" y=\"-671.8\">conv0: Conv2D</text>\n</g>\n<!-- 139958342778384&#45;&gt;139958342727056 -->\n<g class=\"edge\" id=\"edge1\">\n<title>139958342778384-&gt;139958342727056</title>\n<path d=\"M90,-730.4551C90,-722.3828 90,-712.6764 90,-703.6817\" fill=\"none\" stroke=\"#000000\"/>\n<polygon fill=\"#000000\" points=\"93.5001,-703.5903 90,-693.5904 86.5001,-703.5904 93.5001,-703.5903\" stroke=\"#000000\"/>\n</g>\n<!-- 139958333945808 -->\n<g class=\"node\" id=\"node3\">\n<title>139958333945808</title>\n<polygon fill=\"none\" points=\"9.5,-584.5 9.5,-620.5 170.5,-620.5 170.5,-584.5 9.5,-584.5\" stroke=\"#000000\"/>\n<text fill=\"#000000\" font-family=\"Times,serif\" font-size=\"14.00\" text-anchor=\"middle\" x=\"90\" y=\"-598.8\">bn0: BatchNormalization</text>\n</g>\n<!-- 139958342727056&#45;&gt;139958333945808 -->\n<g class=\"edge\" id=\"edge2\">\n<title>139958342727056-&gt;139958333945808</title>\n<path d=\"M90,-657.4551C90,-649.3828 90,-639.6764 90,-630.6817\" fill=\"none\" stroke=\"#000000\"/>\n<polygon fill=\"#000000\" points=\"93.5001,-630.5903 90,-620.5904 86.5001,-630.5904 93.5001,-630.5903\" stroke=\"#000000\"/>\n</g>\n<!-- 139958333522000 -->\n<g class=\"node\" id=\"node4\">\n<title>139958333522000</title>\n<polygon fill=\"none\" points=\"20.5,-511.5 20.5,-547.5 159.5,-547.5 159.5,-511.5 20.5,-511.5\" stroke=\"#000000\"/>\n<text fill=\"#000000\" font-family=\"Times,serif\" font-size=\"14.00\" text-anchor=\"middle\" x=\"90\" y=\"-525.8\">activation: Activation</text>\n</g>\n<!-- 139958333945808&#45;&gt;139958333522000 -->\n<g class=\"edge\" id=\"edge3\">\n<title>139958333945808-&gt;139958333522000</title>\n<path d=\"M90,-584.4551C90,-576.3828 90,-566.6764 90,-557.6817\" fill=\"none\" stroke=\"#000000\"/>\n<polygon fill=\"#000000\" points=\"93.5001,-557.5903 90,-547.5904 86.5001,-557.5904 93.5001,-557.5903\" stroke=\"#000000\"/>\n</g>\n<!-- 139958275672912 -->\n<g class=\"node\" id=\"node5\">\n<title>139958275672912</title>\n<polygon fill=\"none\" points=\"3.5,-438.5 3.5,-474.5 176.5,-474.5 176.5,-438.5 3.5,-438.5\" stroke=\"#000000\"/>\n<text fill=\"#000000\" font-family=\"Times,serif\" font-size=\"14.00\" text-anchor=\"middle\" x=\"90\" y=\"-452.8\">max_pool: MaxPooling2D</text>\n</g>\n<!-- 139958333522000&#45;&gt;139958275672912 -->\n<g class=\"edge\" id=\"edge4\">\n<title>139958333522000-&gt;139958275672912</title>\n<path d=\"M90,-511.4551C90,-503.3828 90,-493.6764 90,-484.6817\" fill=\"none\" stroke=\"#000000\"/>\n<polygon fill=\"#000000\" points=\"93.5001,-484.5903 90,-474.5904 86.5001,-484.5904 93.5001,-484.5903\" stroke=\"#000000\"/>\n</g>\n<!-- 139958275771984 -->\n<g class=\"node\" id=\"node6\">\n<title>139958275771984</title>\n<polygon fill=\"none\" points=\"35,-365.5 35,-401.5 145,-401.5 145,-365.5 35,-365.5\" stroke=\"#000000\"/>\n<text fill=\"#000000\" font-family=\"Times,serif\" font-size=\"14.00\" text-anchor=\"middle\" x=\"90\" y=\"-379.8\">conv1: Conv2D</text>\n</g>\n<!-- 139958275672912&#45;&gt;139958275771984 -->\n<g class=\"edge\" id=\"edge5\">\n<title>139958275672912-&gt;139958275771984</title>\n<path d=\"M90,-438.4551C90,-430.3828 90,-420.6764 90,-411.6817\" fill=\"none\" stroke=\"#000000\"/>\n<polygon fill=\"#000000\" points=\"93.5001,-411.5903 90,-401.5904 86.5001,-411.5904 93.5001,-411.5903\" stroke=\"#000000\"/>\n</g>\n<!-- 139958275740816 -->\n<g class=\"node\" id=\"node7\">\n<title>139958275740816</title>\n<polygon fill=\"none\" points=\"9.5,-292.5 9.5,-328.5 170.5,-328.5 170.5,-292.5 9.5,-292.5\" stroke=\"#000000\"/>\n<text fill=\"#000000\" font-family=\"Times,serif\" font-size=\"14.00\" text-anchor=\"middle\" x=\"90\" y=\"-306.8\">bn1: BatchNormalization</text>\n</g>\n<!-- 139958275771984&#45;&gt;139958275740816 -->\n<g class=\"edge\" id=\"edge6\">\n<title>139958275771984-&gt;139958275740816</title>\n<path d=\"M90,-365.4551C90,-357.3828 90,-347.6764 90,-338.6817\" fill=\"none\" stroke=\"#000000\"/>\n<polygon fill=\"#000000\" points=\"93.5001,-338.5903 90,-328.5904 86.5001,-338.5904 93.5001,-338.5903\" stroke=\"#000000\"/>\n</g>\n<!-- 139958333943952 -->\n<g class=\"node\" id=\"node8\">\n<title>139958333943952</title>\n<polygon fill=\"none\" points=\"13,-219.5 13,-255.5 167,-255.5 167,-219.5 13,-219.5\" stroke=\"#000000\"/>\n<text fill=\"#000000\" font-family=\"Times,serif\" font-size=\"14.00\" text-anchor=\"middle\" x=\"90\" y=\"-233.8\">activation_1: Activation</text>\n</g>\n<!-- 139958275740816&#45;&gt;139958333943952 -->\n<g class=\"edge\" id=\"edge7\">\n<title>139958275740816-&gt;139958333943952</title>\n<path d=\"M90,-292.4551C90,-284.3828 90,-274.6764 90,-265.6817\" fill=\"none\" stroke=\"#000000\"/>\n<polygon fill=\"#000000\" points=\"93.5001,-265.5903 90,-255.5904 86.5001,-265.5904 93.5001,-265.5903\" stroke=\"#000000\"/>\n</g>\n<!-- 139958275798864 -->\n<g class=\"node\" id=\"node9\">\n<title>139958275798864</title>\n<polygon fill=\"none\" points=\"0,-146.5 0,-182.5 180,-182.5 180,-146.5 0,-146.5\" stroke=\"#000000\"/>\n<text fill=\"#000000\" font-family=\"Times,serif\" font-size=\"14.00\" text-anchor=\"middle\" x=\"90\" y=\"-160.8\">max_pool2: MaxPooling2D</text>\n</g>\n<!-- 139958333943952&#45;&gt;139958275798864 -->\n<g class=\"edge\" id=\"edge8\">\n<title>139958333943952-&gt;139958275798864</title>\n<path d=\"M90,-219.4551C90,-211.3828 90,-201.6764 90,-192.6817\" fill=\"none\" stroke=\"#000000\"/>\n<polygon fill=\"#000000\" points=\"93.5001,-192.5903 90,-182.5904 86.5001,-192.5904 93.5001,-192.5903\" stroke=\"#000000\"/>\n</g>\n<!-- 139958275821712 -->\n<g class=\"node\" id=\"node10\">\n<title>139958275821712</title>\n<polygon fill=\"none\" points=\"41,-73.5 41,-109.5 139,-109.5 139,-73.5 41,-73.5\" stroke=\"#000000\"/>\n<text fill=\"#000000\" font-family=\"Times,serif\" font-size=\"14.00\" text-anchor=\"middle\" x=\"90\" y=\"-87.8\">flatten: Flatten</text>\n</g>\n<!-- 139958275798864&#45;&gt;139958275821712 -->\n<g class=\"edge\" id=\"edge9\">\n<title>139958275798864-&gt;139958275821712</title>\n<path d=\"M90,-146.4551C90,-138.3828 90,-128.6764 90,-119.6817\" fill=\"none\" stroke=\"#000000\"/>\n<polygon fill=\"#000000\" points=\"93.5001,-119.5903 90,-109.5904 86.5001,-119.5904 93.5001,-119.5903\" stroke=\"#000000\"/>\n</g>\n<!-- 139958275798992 -->\n<g class=\"node\" id=\"node11\">\n<title>139958275798992</title>\n<polygon fill=\"none\" points=\"55,-.5 55,-36.5 125,-36.5 125,-.5 55,-.5\" stroke=\"#000000\"/>\n<text fill=\"#000000\" font-family=\"Times,serif\" font-size=\"14.00\" text-anchor=\"middle\" x=\"90\" y=\"-14.8\">fc: Dense</text>\n</g>\n<!-- 139958275821712&#45;&gt;139958275798992 -->\n<g class=\"edge\" id=\"edge10\">\n<title>139958275821712-&gt;139958275798992</title>\n<path d=\"M90,-73.4551C90,-65.3828 90,-55.6764 90,-46.6817\" fill=\"none\" stroke=\"#000000\"/>\n<polygon fill=\"#000000\" points=\"93.5001,-46.5903 90,-36.5904 86.5001,-46.5904 93.5001,-46.5903\" stroke=\"#000000\"/>\n</g>\n</g>\n</svg>"
          },
          "metadata": {
            "tags": []
          },
          "execution_count": 11
        }
      ]
    },
    {
      "cell_type": "code",
      "metadata": {
        "id": "EyJ5KrZ8L3jl"
      },
      "source": [],
      "execution_count": null,
      "outputs": []
    }
  ]
}